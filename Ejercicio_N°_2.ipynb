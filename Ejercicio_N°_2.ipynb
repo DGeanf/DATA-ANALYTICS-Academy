{
  "nbformat": 4,
  "nbformat_minor": 0,
  "metadata": {
    "colab": {
      "provenance": [],
      "authorship_tag": "ABX9TyM0AsDERSmiB0GsNt/Canas",
      "include_colab_link": true
    },
    "kernelspec": {
      "name": "python3",
      "display_name": "Python 3"
    },
    "language_info": {
      "name": "python"
    }
  },
  "cells": [
    {
      "cell_type": "markdown",
      "metadata": {
        "id": "view-in-github",
        "colab_type": "text"
      },
      "source": [
        "<a href=\"https://colab.research.google.com/github/DGeanf/DATA-ANALYTICS-Academy/blob/main/Ejercicio_N%C2%B0_2.ipynb\" target=\"_parent\"><img src=\"https://colab.research.google.com/assets/colab-badge.svg\" alt=\"Open In Colab\"/></a>"
      ]
    },
    {
      "cell_type": "markdown",
      "source": [
        "**Ejercicio N° 2:**\n",
        "\n",
        "Escribir un programa que reciba un diccionario con los ingresos\n",
        "mensuales de los clientes de una empresa, y devuelva una serie\n",
        "con el ingreso mínimo, máximo y media.\n",
        "El resultado final debe ser una serie con los estadísticos"
      ],
      "metadata": {
        "id": "5wSgDxXpoKKc"
      }
    },
    {
      "cell_type": "code",
      "execution_count": null,
      "metadata": {
        "colab": {
          "base_uri": "https://localhost:8080/"
        },
        "id": "kO4UORuBoC_J",
        "outputId": "769eeade-1d13-47c3-e0b1-22402a070b06"
      },
      "outputs": [
        {
          "output_type": "stream",
          "name": "stdout",
          "text": [
            "Ingrese el número de clientes 3\n",
            "Ingresar nombre del cliente  1: Karen\n",
            "Ingresar el ingreso del cliente Karen: 700\n",
            "Ingresar nombre del cliente  2: Marcos\n",
            "Ingresar el ingreso del cliente Marcos: 900\n",
            "Ingresar nombre del cliente  3: Danny\n",
            "Ingresar el ingreso del cliente Danny: 500\n",
            "\n",
            "\n",
            "Min                  500.0\n",
            "Max                  900.0\n",
            "Media                700.0\n",
            "Desviación típica    200.0\n",
            "dtype: float64\n",
            "\n",
            "\n",
            "count      3.0\n",
            "mean     700.0\n",
            "std      200.0\n",
            "min      500.0\n",
            "25%      600.0\n",
            "50%      700.0\n",
            "75%      800.0\n",
            "max      900.0\n",
            "dtype: float64\n"
          ]
        }
      ],
      "source": [
        "import pandas as pd   #Importamos la libreria pandas\n",
        "\n",
        "#Definimos una funcion estadistica_ingresos() que devolvera las estadisticas de los ingresos mensuales\n",
        "def estadistica_ingresos(ingresos):\n",
        "    ingresos = pd.Series(ingresos)\n",
        "    estadisticas = pd.Series([ingresos.min(), ingresos.max(), ingresos.mean(), ingresos.std()], index=['Min', 'Max', 'Media', 'Desviación típica'])\n",
        "    return estadisticas\n",
        "\n",
        "#Otra funcion que tambien retorna las estadisticas de los ingresos mensusales\n",
        "def estadistica_ingresos2(ingresos):\n",
        "    ingresos = pd.Series(ingresos)\n",
        "    return ingresos.describe()\n",
        "\n",
        "ingreso = {} #Definimos el tipo de dato de ingreso\n",
        "\n",
        "num = int(input('Ingrese el número de clientes ')) #Ingrersamos el numero de clientes\n",
        "\n",
        "#Ingresamos el nombre e ingreso de cada cliente\n",
        "for i in range(1,num+1):\n",
        "  cliente = str(input('Ingresar nombre del cliente  '+ str(i) +': '))\n",
        "  ingreso[cliente] = float(input('Ingresar el ingreso del cliente '+ cliente +': '))\n",
        "\n",
        "#print(ingreso)\n",
        "#Metodo 1 para mostrar las estadisticas\n",
        "print('\\n')\n",
        "print(estadistica_ingresos(ingreso))\n",
        "#\"Metodo 2 para mostrar las estadisticas\"\n",
        "print('\\n')\n",
        "print(estadistica_ingresos2(ingreso))"
      ]
    }
  ]
}