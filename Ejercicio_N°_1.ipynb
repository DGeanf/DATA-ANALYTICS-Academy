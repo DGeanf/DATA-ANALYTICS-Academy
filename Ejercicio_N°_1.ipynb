{
  "nbformat": 4,
  "nbformat_minor": 0,
  "metadata": {
    "colab": {
      "provenance": [],
      "authorship_tag": "ABX9TyOAl56aKcO7Reg1t+jghhuQ",
      "include_colab_link": true
    },
    "kernelspec": {
      "name": "python3",
      "display_name": "Python 3"
    },
    "language_info": {
      "name": "python"
    }
  },
  "cells": [
    {
      "cell_type": "markdown",
      "metadata": {
        "id": "view-in-github",
        "colab_type": "text"
      },
      "source": [
        "<a href=\"https://colab.research.google.com/github/DGeanf/DATA-ANALYTICS-Academy/blob/main/Ejercicio_N%C2%B0_1.ipynb\" target=\"_parent\"><img src=\"https://colab.research.google.com/assets/colab-badge.svg\" alt=\"Open In Colab\"/></a>"
      ]
    },
    {
      "cell_type": "markdown",
      "source": [
        "#EJERCICIO N° 01\n",
        "\n",
        "Escribir un programa que pregunte al usuario o genere las ventas de los últimos 5 días, y muestre por pantalla una serie (Dataframe) con los datos de las ventas por producto (opcional): Nro de unidades y precio unitario, indexada por los días, antes y después de aplicarles un descuento del 5%"
      ],
      "metadata": {
        "id": "kxrpY6TMgRq9"
      }
    },
    {
      "cell_type": "code",
      "execution_count": null,
      "metadata": {
        "colab": {
          "base_uri": "https://localhost:8080/"
        },
        "id": "EF6PbwdHgPB8",
        "outputId": "b724c3b8-a6be-464d-d9d2-dc8abfe9afb4"
      },
      "outputs": [
        {
          "output_type": "stream",
          "name": "stdout",
          "text": [
            "Ventas de los ultimos 5 días \n",
            "Ingrese el número de clases de productos vendidos 3\n",
            "Ingresar Datos de las ventas del dia 1\n",
            "   Ingrese el precio del producto 1: 5\n",
            "   Ingrese las unidades vendidas del producto 1: 2\n",
            "   Ingrese el precio del producto 2: 10\n",
            "   Ingrese las unidades vendidas del producto 2: 6\n",
            "   Ingrese el precio del producto 3: 3\n",
            "   Ingrese las unidades vendidas del producto 3: 4\n",
            "Ingresar Datos de las ventas del dia 2\n",
            "   Ingrese el precio del producto 1: 2\n",
            "   Ingrese las unidades vendidas del producto 1: 4\n",
            "   Ingrese el precio del producto 2: 3\n",
            "   Ingrese las unidades vendidas del producto 2: 10\n",
            "   Ingrese el precio del producto 3: 11\n",
            "   Ingrese las unidades vendidas del producto 3: 4\n",
            "Ingresar Datos de las ventas del dia 3\n",
            "   Ingrese el precio del producto 1: 3\n",
            "   Ingrese las unidades vendidas del producto 1: 4\n",
            "   Ingrese el precio del producto 2: 5\n",
            "   Ingrese las unidades vendidas del producto 2: 6\n",
            "   Ingrese el precio del producto 3: 3\n",
            "   Ingrese las unidades vendidas del producto 3: 8\n",
            "Ingresar Datos de las ventas del dia 4\n",
            "   Ingrese el precio del producto 1: 4\n",
            "   Ingrese las unidades vendidas del producto 1: 5\n",
            "   Ingrese el precio del producto 2: 6\n",
            "   Ingrese las unidades vendidas del producto 2: 4\n",
            "   Ingrese el precio del producto 3: 3\n",
            "   Ingrese las unidades vendidas del producto 3: 8\n",
            "Ingresar Datos de las ventas del dia 5\n",
            "   Ingrese el precio del producto 1: 9\n",
            "   Ingrese las unidades vendidas del producto 1: 10\n",
            "   Ingrese el precio del producto 2: 4\n",
            "   Ingrese las unidades vendidas del producto 2: 5\n",
            "   Ingrese el precio del producto 3: 10\n",
            "   Ingrese las unidades vendidas del producto 3: 5\n",
            "Ventas sin descuento\n",
            " 1  1    10.0\n",
            "   2    60.0\n",
            "   3    12.0\n",
            "2  1     8.0\n",
            "   2    30.0\n",
            "   3    44.0\n",
            "3  1    12.0\n",
            "   2    30.0\n",
            "   3    24.0\n",
            "4  1    20.0\n",
            "   2    24.0\n",
            "   3    24.0\n",
            "5  1    90.0\n",
            "   2    20.0\n",
            "   3    50.0\n",
            "dtype: float64\n",
            "Ventas con 5% de descuento\n",
            " 1  1     9.5\n",
            "   2    57.0\n",
            "   3    11.4\n",
            "2  1     7.6\n",
            "   2    28.5\n",
            "   3    41.8\n",
            "3  1    11.4\n",
            "   2    28.5\n",
            "   3    22.8\n",
            "4  1    19.0\n",
            "   2    22.8\n",
            "   3    22.8\n",
            "5  1    85.5\n",
            "   2    19.0\n",
            "   3    47.5\n",
            "dtype: float64\n"
          ]
        }
      ],
      "source": [
        "import pandas as pd\n",
        "\n",
        "print('Ventas de los ultimos 5 días ')\n",
        "d = 5 #numero de dias\n",
        "ventas = {}\n",
        "precio_unit ={}\n",
        "unid = {}\n",
        "\n",
        "\n",
        "tipo_productos = int(input('Ingrese el número de clases de productos vendidos ')) #  Ingresamos la cantidad de clases de productos que se vende\n",
        "\n",
        "#Ingresamos el precio y la3 cantidad por cada tipo producto vendido en 5 dias \n",
        "for i in range(1,d+1):\n",
        "  print('Ingresar Datos de las ventas del dia '+ str(i))\n",
        "  for j in range(1,tipo_productos+1):\n",
        "    precio_unit[i,j] = float(input('   Ingrese el precio del producto ' + str(j) +': '))\n",
        "    unid[i,j] = float(input('   Ingrese las unidades vendidas del producto ' + str(j) +': '))\n",
        "    ventas[i,j] = precio_unit[i,j]*unid[i,j]\n",
        "#ventas['precio'] = precio_unit\n",
        "#ventas['cantidad'] = unid\n",
        "\n",
        "ventas = pd.Series(ventas)\n",
        "print('\\n Ventas sin descuento\\n', ventas) # Muestra las ventas antes del descuento\n",
        "print('\\n Ventas con 5% de descuento\\n', ventas*0.95) # Muestra las ventas con 5% de descuento"
      ]
    }
  ]
}