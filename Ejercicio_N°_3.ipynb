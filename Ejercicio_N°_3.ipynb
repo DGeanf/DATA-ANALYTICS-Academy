{
  "cells": [
    {
      "cell_type": "markdown",
      "metadata": {
        "id": "view-in-github",
        "colab_type": "text"
      },
      "source": [
        "<a href=\"https://colab.research.google.com/github/DGeanf/DATA-ANALYTICS-Academy/blob/main/Ejercicio_N%C2%B0_3.ipynb\" target=\"_parent\"><img src=\"https://colab.research.google.com/assets/colab-badge.svg\" alt=\"Open In Colab\"/></a>"
      ]
    },
    {
      "cell_type": "markdown",
      "metadata": {
        "id": "_reyI3xZqrTS"
      },
      "source": [
        "\n",
        "\n",
        "#Ejercicio N° 3:\n",
        "\n",
        "Escribir programa que genere y muestre por pantalla un DataFrame\n",
        "con los datos de la siguiente tabla:\n",
        "\n",
        "![Captura de pantalla (60).png](data:image/png;base64,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)\n",
        "\n",
        "A continuación, generar nuevas columnas:\n",
        "  1. Columna 1 = Gasto/Ventas*100.\n",
        "  2. Columna 2 = Si Ventas>= 30000, imprimir “Meta Superada”, caso contrario imprimir “Meta no Superada”.\n",
        "  3. Columna 3 = Si Gasto>Ventas, calcular el sobre gasto.\n",
        "  4. Obtener el total de las ventas de los últimos 3 meses\n",
        "  5. Obtener el total de gastos de febrero a abril"
      ]
    },
    {
      "cell_type": "code",
      "execution_count": null,
      "metadata": {
        "colab": {
          "base_uri": "https://localhost:8080/"
        },
        "id": "maNR-js1qqNz",
        "outputId": "c167d05e-38b6-49e8-e9dd-bb6d621a1f84"
      },
      "outputs": [
        {
          "output_type": "stream",
          "name": "stdout",
          "text": [
            "       Mes  Ventas  Gastos\n",
            "0    Enero   30500   22000\n",
            "1  Febrero   35600   23450\n",
            "2    Marzo   28300   18100\n",
            "3    Abril   33900   35700\n",
            "4     Mayo   42500   32450\n"
          ]
        }
      ],
      "source": [
        "import pandas as pd\n",
        "\n",
        "datos = {'Mes':['Enero', 'Febrero', 'Marzo', 'Abril', 'Mayo'], 'Ventas':[30500, 35600, 28300, 33900, 42500], 'Gastos':[22000, 23450, 18100, 35700, 32450]}\n",
        "tabla = pd.DataFrame(datos)\n",
        "print(tabla)"
      ]
    },
    {
      "cell_type": "code",
      "execution_count": null,
      "metadata": {
        "colab": {
          "base_uri": "https://localhost:8080/"
        },
        "id": "ZrYBv9gkrTm2",
        "outputId": "0a3f52f7-00d4-4e43-90ab-a73bd9ec3bbe"
      },
      "outputs": [
        {
          "output_type": "stream",
          "name": "stdout",
          "text": [
            "       Mes  Ventas  Gastos  Gastos/Ventas*100              Meta\n",
            "0    Enero   30500   22000         138.636364     Meta Superada\n",
            "1  Febrero   35600   23450         151.812367     Meta Superada\n",
            "2    Marzo   28300   18100         156.353591  Meta no Superada\n",
            "3    Abril   33900   35700          94.957983     Meta Superada\n",
            "4     Mayo   42500   32450         130.970724     Meta Superada\n"
          ]
        }
      ],
      "source": [
        "#Columna 1 = Gasto/Ventas*100\n",
        "\n",
        "import numpy as np\n",
        "np_ventas = np.array(datos['Ventas'])\n",
        "np_gastos = np.array(datos['Gastos'])\n",
        "\n",
        "datos['Gastos/Ventas*100']  = np_ventas/np_gastos*100\n",
        "tabla2 = pd.DataFrame(datos)\n",
        "print(tabla2)"
      ]
    },
    {
      "cell_type": "code",
      "execution_count": null,
      "metadata": {
        "colab": {
          "base_uri": "https://localhost:8080/"
        },
        "id": "ezrZGYmlrZxP",
        "outputId": "add4c02f-5ba0-436b-b9c3-75a5e0e60306"
      },
      "outputs": [
        {
          "output_type": "stream",
          "name": "stdout",
          "text": [
            "       Mes  Ventas  Gastos  Gastos/Ventas*100              Meta\n",
            "0    Enero   30500   22000         138.636364     Meta Superada\n",
            "1  Febrero   35600   23450         151.812367     Meta Superada\n",
            "2    Marzo   28300   18100         156.353591  Meta no Superada\n",
            "3    Abril   33900   35700          94.957983     Meta Superada\n",
            "4     Mayo   42500   32450         130.970724     Meta Superada\n"
          ]
        }
      ],
      "source": [
        "#Columna 2 = Si Ventas>= 30000, imprimir “Meta Superada”, caso contrario imprimir “Meta no Superada”\n",
        "\n",
        "datos['Meta']=['','','','','']\n",
        "\n",
        "for i in range(4+1):\n",
        "  if datos['Ventas'][i] >= 30000:\n",
        "    datos['Meta'][i]= 'Meta Superada'\n",
        "  else:\n",
        "    datos['Meta'][i]= 'Meta no Superada'\n",
        "\n",
        "tabla3 = pd.DataFrame(datos)\n",
        "print(tabla3)"
      ]
    },
    {
      "cell_type": "code",
      "source": [
        "#Columna 3 = Si Gasto>Ventas, calcular el sobre gasto\n",
        "sobregasto = pd.DataFrame(datos)\n",
        "#print(sobregasto)\n",
        "\n",
        "def balance(sobregasto):#, meses):\n",
        "    sobregasto['Sobregasto'] = sobregasto.Gastos - sobregasto.Ventas\n",
        "    return sobregasto#[sobregasto.Mes.isin(meses)].Balance.sum()\n",
        "\n",
        "print('\\n')\n",
        "print(balance(sobregasto)) #, ['Enero','Marzo']))"
      ],
      "metadata": {
        "colab": {
          "base_uri": "https://localhost:8080/"
        },
        "id": "tU7CBe5cyyDw",
        "outputId": "4bf3c038-4a4a-4742-94ca-68c727414e2e"
      },
      "execution_count": null,
      "outputs": [
        {
          "output_type": "stream",
          "name": "stdout",
          "text": [
            "\n",
            "\n",
            "       Mes  Ventas  Gastos  Gastos/Ventas*100              Meta  Sobregasto\n",
            "0    Enero   30500   22000         138.636364     Meta Superada       -8500\n",
            "1  Febrero   35600   23450         151.812367     Meta Superada      -12150\n",
            "2    Marzo   28300   18100         156.353591  Meta no Superada      -10200\n",
            "3    Abril   33900   35700          94.957983     Meta Superada        1800\n",
            "4     Mayo   42500   32450         130.970724     Meta Superada      -10050\n"
          ]
        }
      ]
    },
    {
      "cell_type": "code",
      "source": [
        "# 4. Obtener el total de las ventas de los últimos 3 meses\n",
        "\n",
        "ventas = pd.DataFrame(sobregasto)\n",
        "\n",
        "def total_ventas(ventas,meses):\n",
        "  totalventas = ventas[ventas.Mes.isin(meses)].Ventas.sum() \n",
        "  return(totalventas)\n",
        "\n",
        "print('La venta de los ultimos 3 meses es :')\n",
        "print(total_ventas(ventas,['Marzo','Abril','Mayo']))"
      ],
      "metadata": {
        "colab": {
          "base_uri": "https://localhost:8080/"
        },
        "id": "WRQypf-uy5GW",
        "outputId": "f3feb2d3-b5be-4944-f37d-aa304613226b"
      },
      "execution_count": null,
      "outputs": [
        {
          "output_type": "stream",
          "name": "stdout",
          "text": [
            "La venta de los ultimos 3 meses es :\n",
            "104700\n"
          ]
        }
      ]
    },
    {
      "cell_type": "code",
      "source": [
        "# 5. Obtener el total de gastos de febrero a abril\n",
        "\n",
        "gastos_meses = pd.DataFrame(sobregasto)\n",
        "\n",
        "def total_gasto(gastos,meses):\n",
        "  totalgasto = gastos[gastos.Mes.isin(meses)].Gastos.sum()\n",
        "  return(totalgasto)\n",
        "\n",
        "\n",
        "print('El gasto total desde Febrero a Abril es :')\n",
        "print(total_gasto(gastos_meses,['Febrero','Marzo','Abril']))"
      ],
      "metadata": {
        "colab": {
          "base_uri": "https://localhost:8080/"
        },
        "id": "fu_BIxZ7y-wx",
        "outputId": "245cd2d7-fa54-4dbb-eef6-630a5810adcd"
      },
      "execution_count": null,
      "outputs": [
        {
          "output_type": "stream",
          "name": "stdout",
          "text": [
            "El gasto total desde Febrero a Abril es :\n",
            "77250\n"
          ]
        }
      ]
    }
  ],
  "metadata": {
    "colab": {
      "provenance": [],
      "authorship_tag": "ABX9TyN0lg42k7/Y++CTMULlhQfA",
      "include_colab_link": true
    },
    "kernelspec": {
      "display_name": "Python 3",
      "name": "python3"
    },
    "language_info": {
      "name": "python"
    }
  },
  "nbformat": 4,
  "nbformat_minor": 0
}